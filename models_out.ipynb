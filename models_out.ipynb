{
 "cells": [
  {
   "cell_type": "code",
   "execution_count": 41,
   "metadata": {
    "collapsed": false
   },
   "outputs": [],
   "source": [
    "import pandas as pd\n",
    "import numpy as np\n",
    "from sklearn.cross_validation import train_test_split\n",
    "from sklearn.linear_model import LogisticRegressionCV\n",
    "from sklearn.linear_model import SGDClassifier\n",
    "from sklearn.metrics import accuracy_score, precision_score, recall_score\n",
    "from sklearn.utils import shuffle\n",
    "import scipy\n",
    "import matplotlib.pyplot as plt\n",
    "import math\n",
    "\n",
    "%matplotlib inline"
   ]
  },
  {
   "cell_type": "code",
   "execution_count": 42,
   "metadata": {
    "collapsed": true
   },
   "outputs": [],
   "source": [
    "def data(path):\n",
    "    df = pd.read_csv(path)\n",
    "    inc = ['identity', 'NUMBER_OF_PERSONS_INJURED', 'NUMBER_OF_PERSONS_KILLED', 'NUMBER_OF_PEDESTRIANS_INJURED', \n",
    "           'NUMBER_OF_PEDESTRIANS_KILLED', 'NUMBER_OF_CYCLIST_INJURED', 'NUMBER_OF_CYCLIST_KILLED', \n",
    "           \"NUMBER_OF_MOTORIST_INJURED\", \"NUMBER_OF_MOTORIST_KILLED\"]\n",
    "    new = df[inc]\n",
    "    new2 = new.groupby('identity').sum()\n",
    "    new2.columns = ['%s_sum' % i for i in new2.columns]\n",
    "    new2['inc_sum'] = new2.sum(axis=1)\n",
    "    new2 = new2.reset_index()\n",
    "    df2 = df.merge(new2, how='left', left_on='identity', right_on='identity')\n",
    "    final = ['intersectionID','label','Street_Condition','Traffic_Signal_Condition','Visibility',\n",
    "         'WetBulbFarenheit','WindSpeed','Precip','PrecipSum','total_involved','bikeLane',\n",
    "         'NUMBER_OF_PERSONS_INJURED_sum','NUMBER_OF_PERSONS_KILLED_sum','NUMBER_OF_PEDESTRIANS_INJURED_sum',\n",
    "         'NUMBER_OF_PEDESTRIANS_KILLED_sum','NUMBER_OF_CYCLIST_INJURED_sum','NUMBER_OF_CYCLIST_KILLED_sum',\n",
    "         'NUMBER_OF_MOTORIST_INJURED_sum','NUMBER_OF_MOTORIST_KILLED_sum','inc_sum']\n",
    "    # remove columns\n",
    "    drp = ['Unnamed: 0', 'identity']\n",
    "    temp = df2.drop(drp, axis=1).dropna(how='any')\n",
    "    df3 = temp[final]\n",
    "    # create test validation set\n",
    "    other, test = train_test_split(df3,  test_size=0.20, random_state=83, stratify=df3.label)\n",
    "    train, val = train_test_split(other,  test_size=0.30, random_state=83, stratify=other.label)\n",
    "    # intersection\n",
    "    val = val.set_index('intersectionID')\n",
    "    train = train.set_index('intersectionID')\n",
    "    test = test.set_index('intersectionID')\n",
    "    \n",
    "    return train, val, test, df"
   ]
  },
  {
   "cell_type": "code",
   "execution_count": 43,
   "metadata": {
    "collapsed": false
   },
   "outputs": [],
   "source": [
    "def BestModel(train, val, p):\n",
    "    traX = train.values[:,1:]\n",
    "    traY = train.values[:,0]\n",
    "    valX = val.values[:,1:]\n",
    "    valY = val.values[:,0]\n",
    "    C = np.logspace(1e-5,np.log(3), 20)\n",
    "    keeper = {}\n",
    "    scores = []\n",
    "    for idx, c in enumerate(C):\n",
    "        clf = SGDClassifier(loss='log', penalty=p, alpha=c, random_state=83, n_iter=5)\n",
    "        model = clf.fit(traX , traY)\n",
    "        valscore = model.score(valX,valY)\n",
    "        scores.append(valscore)\n",
    "        keeper[idx] = c\n",
    "    best = C[np.argmax(scores)]\n",
    "    clf = SGDClassifier(loss='log', penalty=p, alpha=best, random_state=83, n_iter=5)\n",
    "    best_model = clf.fit(traX , traY)\n",
    "    valscore = best_model.score(valX,valY)\n",
    "\n",
    "    return best_model, valscore"
   ]
  },
  {
   "cell_type": "code",
   "execution_count": 44,
   "metadata": {
    "collapsed": false
   },
   "outputs": [],
   "source": [
    "def BaggingModel(train, val, n=40000, bags=3, norm='l2'):\n",
    "    final_coef = np.zeros((bags,train.shape[1]-1))\n",
    "    ttemp = train.reset_index()\n",
    "    zeros = ttemp[ttemp.label==0].index.values\n",
    "    ones = ttemp[ttemp.label==1].index.values\n",
    "    for i in range(bags):\n",
    "        zero_bag = shuffle(zeros)[:n]\n",
    "        one_bag = shuffle(ones)[:n]\n",
    "        indexes = shuffle(np.concatenate((zero_bag, one_bag)))\n",
    "        bag = train.iloc[indexes]\n",
    "        model, score = BestModel(bag, val,p=norm)\n",
    "        final_coef[i] = model.coef_\n",
    "        # print('bag %d score: %.5f' % (i, score))\n",
    "    coef = final_coef.mean(axis=0)\n",
    "    \n",
    "    return coef"
   ]
  },
  {
   "cell_type": "code",
   "execution_count": 45,
   "metadata": {
    "collapsed": true
   },
   "outputs": [],
   "source": [
    "def Evaluate(test, coef):\n",
    "    testX = test.values[:,1:]\n",
    "    testY = test.values[:,0]\n",
    "    inner = np.dot(coef,testX.T)\n",
    "    prob = scipy.special.expit(inner)\n",
    "    \n",
    "    return prob"
   ]
  },
  {
   "cell_type": "code",
   "execution_count": 46,
   "metadata": {
    "collapsed": false
   },
   "outputs": [],
   "source": [
    "def main():\n",
    "    train, val, test, df = data('../data/vzwV3.csv')\n",
    "    coef = BaggingModel(train, val, n=15000, bags=10, norm='l1')\n",
    "    prob = Evaluate(test, coef)\n",
    "    predict = prob.round()\n",
    "    test_score = accuracy_score(test.label, predict)\n",
    "    test_recall = recall_score(test.label, predict)\n",
    "    test_precision = precision_score(test.label, predict)\n",
    "    print('accuracy: %.3f, precision: %.3f, recall: %.3f' % (test_score, test_precision, test_recall))\n",
    "    \n",
    "    return coef, test.columns"
   ]
  },
  {
   "cell_type": "code",
   "execution_count": 49,
   "metadata": {
    "collapsed": false
   },
   "outputs": [
    {
     "name": "stdout",
     "output_type": "stream",
     "text": [
      "accuracy: 0.784, precision: 0.780, recall: 0.936\n"
     ]
    }
   ],
   "source": [
    "if __name__ == '__main__': \n",
    "    coef, columns = main()"
   ]
  },
  {
   "cell_type": "code",
   "execution_count": 50,
   "metadata": {
    "collapsed": false
   },
   "outputs": [
    {
     "data": {
      "text/plain": [
       "array([ 316.66983677,   31.98777798,   -4.26113427,  -33.71268784,\n",
       "         -3.62756619,    0.        ,    0.        ,    0.        ,\n",
       "          0.        ,    0.        ,    0.        ,    0.        ,\n",
       "          0.        ,    0.        ,    0.        ,    0.        ,\n",
       "          0.        ,    0.        ])"
      ]
     },
     "execution_count": 50,
     "metadata": {},
     "output_type": "execute_result"
    }
   ],
   "source": [
    "coef"
   ]
  },
  {
   "cell_type": "code",
   "execution_count": null,
   "metadata": {
    "collapsed": true
   },
   "outputs": [],
   "source": []
  },
  {
   "cell_type": "code",
   "execution_count": null,
   "metadata": {
    "collapsed": true
   },
   "outputs": [],
   "source": []
  },
  {
   "cell_type": "code",
   "execution_count": null,
   "metadata": {
    "collapsed": true
   },
   "outputs": [],
   "source": []
  },
  {
   "cell_type": "code",
   "execution_count": null,
   "metadata": {
    "collapsed": true
   },
   "outputs": [],
   "source": []
  },
  {
   "cell_type": "code",
   "execution_count": null,
   "metadata": {
    "collapsed": true
   },
   "outputs": [],
   "source": []
  },
  {
   "cell_type": "code",
   "execution_count": null,
   "metadata": {
    "collapsed": true
   },
   "outputs": [],
   "source": []
  }
 ],
 "metadata": {
  "kernelspec": {
   "display_name": "Python 3 (local)",
   "language": "python",
   "name": "python3"
  },
  "language_info": {
   "codemirror_mode": {
    "name": "ipython",
    "version": 3
   },
   "file_extension": ".py",
   "mimetype": "text/x-python",
   "name": "python",
   "nbconvert_exporter": "python",
   "pygments_lexer": "ipython3",
   "version": "3.5.1"
  }
 },
 "nbformat": 4,
 "nbformat_minor": 0
}
