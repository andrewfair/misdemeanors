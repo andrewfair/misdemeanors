{
 "cells": [
  {
   "cell_type": "code",
   "execution_count": 1,
   "metadata": {
    "collapsed": false
   },
   "outputs": [
    {
     "name": "stdout",
     "output_type": "stream",
     "text": [
      "Populating the interactive namespace from numpy and matplotlib\n"
     ]
    }
   ],
   "source": [
    "%pylab inline\n",
    "import pandas as pd\n",
    "import numpy as np\n",
    "import os\n",
    "import geopandas as gpd\n",
    "from geopandas import GeoDataFrame, read_file\n",
    "from geopandas.tools import sjoin\n",
    "from shapely.geometry import Point, mapping,shape\n",
    "import time\n",
    "import matplotlib.pyplot as plt\n",
    "from fiona import collection\n",
    "import json"
   ]
  },
  {
   "cell_type": "code",
   "execution_count": 2,
   "metadata": {
    "collapsed": false
   },
   "outputs": [
    {
     "data": {
      "text/html": [
       "<div>\n",
       "<table border=\"1\" class=\"dataframe\">\n",
       "  <thead>\n",
       "    <tr style=\"text-align: right;\">\n",
       "      <th></th>\n",
       "      <th>AllClasses</th>\n",
       "      <th>BORO</th>\n",
       "      <th>BikeDir</th>\n",
       "      <th>CarFreeHrs</th>\n",
       "      <th>Comments</th>\n",
       "      <th>FACILITYCL</th>\n",
       "      <th>FROMSTREET</th>\n",
       "      <th>FT_Facilit</th>\n",
       "      <th>InstDate</th>\n",
       "      <th>LaneCount</th>\n",
       "      <th>ModDate</th>\n",
       "      <th>OBJECTID</th>\n",
       "      <th>OnOffSt</th>\n",
       "      <th>SegmentID</th>\n",
       "      <th>Shape_Leng</th>\n",
       "      <th>Street</th>\n",
       "      <th>TF_Facilit</th>\n",
       "      <th>TOSTREET</th>\n",
       "      <th>geometry</th>\n",
       "    </tr>\n",
       "  </thead>\n",
       "  <tbody>\n",
       "    <tr>\n",
       "      <th>0</th>\n",
       "      <td>II</td>\n",
       "      <td>3</td>\n",
       "      <td>L</td>\n",
       "      <td>None</td>\n",
       "      <td>None</td>\n",
       "      <td>II</td>\n",
       "      <td>ATLANTIC AV</td>\n",
       "      <td>None</td>\n",
       "      <td>2008-05-01</td>\n",
       "      <td>1</td>\n",
       "      <td>2008/05/01</td>\n",
       "      <td>1</td>\n",
       "      <td>ON</td>\n",
       "      <td>0158196</td>\n",
       "      <td>27.594231</td>\n",
       "      <td>BOERUM PL</td>\n",
       "      <td>Curbside</td>\n",
       "      <td>FULTON ST</td>\n",
       "      <td>(LINESTRING (-73.98920133231049 40.69104037686...</td>\n",
       "    </tr>\n",
       "    <tr>\n",
       "      <th>1</th>\n",
       "      <td>II</td>\n",
       "      <td>3</td>\n",
       "      <td>L</td>\n",
       "      <td>None</td>\n",
       "      <td>None</td>\n",
       "      <td>II</td>\n",
       "      <td>ATLANTIC AV</td>\n",
       "      <td>None</td>\n",
       "      <td>2008-05-01</td>\n",
       "      <td>1</td>\n",
       "      <td>2008/05/01</td>\n",
       "      <td>2</td>\n",
       "      <td>ON</td>\n",
       "      <td>0158195</td>\n",
       "      <td>388.356099</td>\n",
       "      <td>BOERUM PL</td>\n",
       "      <td>Curbside</td>\n",
       "      <td>FULTON ST</td>\n",
       "      <td>(LINESTRING (-73.98893356281089 40.69208665754...</td>\n",
       "    </tr>\n",
       "    <tr>\n",
       "      <th>2</th>\n",
       "      <td>III</td>\n",
       "      <td>3</td>\n",
       "      <td>R</td>\n",
       "      <td>None</td>\n",
       "      <td>None</td>\n",
       "      <td>III</td>\n",
       "      <td>FULTON ST</td>\n",
       "      <td>Sharrows</td>\n",
       "      <td>2008-05-01</td>\n",
       "      <td>1</td>\n",
       "      <td>2008/05/01</td>\n",
       "      <td>3</td>\n",
       "      <td>ON</td>\n",
       "      <td>0158055</td>\n",
       "      <td>41.893490</td>\n",
       "      <td>ADAMS ST</td>\n",
       "      <td>None</td>\n",
       "      <td>SANDS ST</td>\n",
       "      <td>(LINESTRING (-73.9890620141085 40.692418625929...</td>\n",
       "    </tr>\n",
       "    <tr>\n",
       "      <th>3</th>\n",
       "      <td>I</td>\n",
       "      <td>3</td>\n",
       "      <td>2</td>\n",
       "      <td>None</td>\n",
       "      <td>None</td>\n",
       "      <td>I</td>\n",
       "      <td>CLINTON ST</td>\n",
       "      <td>Protected Path</td>\n",
       "      <td>2005-11-01</td>\n",
       "      <td>2</td>\n",
       "      <td>2005/11/01</td>\n",
       "      <td>4</td>\n",
       "      <td>ON</td>\n",
       "      <td>0157983</td>\n",
       "      <td>304.905674</td>\n",
       "      <td>TILLARY ST</td>\n",
       "      <td>Protected Path</td>\n",
       "      <td>ADAMS ST</td>\n",
       "      <td>(LINESTRING (-73.99112993192688 40.69635795276...</td>\n",
       "    </tr>\n",
       "    <tr>\n",
       "      <th>4</th>\n",
       "      <td>III</td>\n",
       "      <td>3</td>\n",
       "      <td>R</td>\n",
       "      <td>None</td>\n",
       "      <td>None</td>\n",
       "      <td>III</td>\n",
       "      <td>BERGEN ST</td>\n",
       "      <td>Sharrows</td>\n",
       "      <td>2008-09-13</td>\n",
       "      <td>1</td>\n",
       "      <td>2008/09/13</td>\n",
       "      <td>5</td>\n",
       "      <td>ON</td>\n",
       "      <td>0022428</td>\n",
       "      <td>126.078700</td>\n",
       "      <td>COURT ST</td>\n",
       "      <td>None</td>\n",
       "      <td>KANE ST</td>\n",
       "      <td>(LINESTRING (-73.99425367928984 40.68577801361...</td>\n",
       "    </tr>\n",
       "  </tbody>\n",
       "</table>\n",
       "</div>"
      ],
      "text/plain": [
       "  AllClasses  BORO BikeDir CarFreeHrs Comments FACILITYCL   FROMSTREET  \\\n",
       "0         II     3       L       None     None         II  ATLANTIC AV   \n",
       "1         II     3       L       None     None         II  ATLANTIC AV   \n",
       "2        III     3       R       None     None        III    FULTON ST   \n",
       "3          I     3       2       None     None          I   CLINTON ST   \n",
       "4        III     3       R       None     None        III    BERGEN ST   \n",
       "\n",
       "       FT_Facilit    InstDate  LaneCount     ModDate  OBJECTID OnOffSt  \\\n",
       "0            None  2008-05-01          1  2008/05/01         1      ON   \n",
       "1            None  2008-05-01          1  2008/05/01         2      ON   \n",
       "2        Sharrows  2008-05-01          1  2008/05/01         3      ON   \n",
       "3  Protected Path  2005-11-01          2  2005/11/01         4      ON   \n",
       "4        Sharrows  2008-09-13          1  2008/09/13         5      ON   \n",
       "\n",
       "  SegmentID  Shape_Leng      Street      TF_Facilit   TOSTREET  \\\n",
       "0   0158196   27.594231   BOERUM PL        Curbside  FULTON ST   \n",
       "1   0158195  388.356099   BOERUM PL        Curbside  FULTON ST   \n",
       "2   0158055   41.893490    ADAMS ST            None   SANDS ST   \n",
       "3   0157983  304.905674  TILLARY ST  Protected Path   ADAMS ST   \n",
       "4   0022428  126.078700    COURT ST            None    KANE ST   \n",
       "\n",
       "                                            geometry  \n",
       "0  (LINESTRING (-73.98920133231049 40.69104037686...  \n",
       "1  (LINESTRING (-73.98893356281089 40.69208665754...  \n",
       "2  (LINESTRING (-73.9890620141085 40.692418625929...  \n",
       "3  (LINESTRING (-73.99112993192688 40.69635795276...  \n",
       "4  (LINESTRING (-73.99425367928984 40.68577801361...  "
      ]
     },
     "execution_count": 2,
     "metadata": {},
     "output_type": "execute_result"
    }
   ],
   "source": [
    "bikes = gpd.read_file('../data/vz311/bikes.geojson')\n",
    "bikes.head()"
   ]
  },
  {
   "cell_type": "code",
   "execution_count": 3,
   "metadata": {
    "collapsed": false
   },
   "outputs": [
    {
     "data": {
      "text/plain": [
       "(10932, 19)"
      ]
     },
     "execution_count": 3,
     "metadata": {},
     "output_type": "execute_result"
    }
   ],
   "source": [
    "bikes.shape"
   ]
  },
  {
   "cell_type": "code",
   "execution_count": 4,
   "metadata": {
    "collapsed": false
   },
   "outputs": [],
   "source": [
    "# ixName = \"../data/vz311/intersectionNodes.geojson\"\n",
    "ixName = \"../data/vz311/intersectionNodes2.geojson\"\n",
    "intersections = gpd.read_file(ixName)"
   ]
  },
  {
   "cell_type": "code",
   "execution_count": 5,
   "metadata": {
    "collapsed": false
   },
   "outputs": [
    {
     "data": {
      "text/plain": [
       "(126240, 3)"
      ]
     },
     "execution_count": 5,
     "metadata": {},
     "output_type": "execute_result"
    }
   ],
   "source": [
    "intersections.shape"
   ]
  },
  {
   "cell_type": "code",
   "execution_count": 6,
   "metadata": {
    "collapsed": false
   },
   "outputs": [
    {
     "data": {
      "text/html": [
       "<div>\n",
       "<table border=\"1\" class=\"dataframe\">\n",
       "  <thead>\n",
       "    <tr style=\"text-align: right;\">\n",
       "      <th></th>\n",
       "      <th>NODEID</th>\n",
       "      <th>VIntersect</th>\n",
       "      <th>geometry</th>\n",
       "    </tr>\n",
       "  </thead>\n",
       "  <tbody>\n",
       "    <tr>\n",
       "      <th>0</th>\n",
       "      <td>1</td>\n",
       "      <td></td>\n",
       "      <td>POINT (-74.25702151185868 40.49414563819848)</td>\n",
       "    </tr>\n",
       "    <tr>\n",
       "      <th>1</th>\n",
       "      <td>2</td>\n",
       "      <td></td>\n",
       "      <td>POINT (-74.24443849259721 40.4922776914055)</td>\n",
       "    </tr>\n",
       "    <tr>\n",
       "      <th>2</th>\n",
       "      <td>3</td>\n",
       "      <td></td>\n",
       "      <td>POINT (-74.25874354305617 40.49704148607953)</td>\n",
       "    </tr>\n",
       "    <tr>\n",
       "      <th>3</th>\n",
       "      <td>4</td>\n",
       "      <td></td>\n",
       "      <td>POINT (-74.25874745972355 40.50270602375195)</td>\n",
       "    </tr>\n",
       "    <tr>\n",
       "      <th>4</th>\n",
       "      <td>5</td>\n",
       "      <td></td>\n",
       "      <td>POINT (-74.25850081677106 40.50810821233416)</td>\n",
       "    </tr>\n",
       "  </tbody>\n",
       "</table>\n",
       "</div>"
      ],
      "text/plain": [
       "   NODEID VIntersect                                      geometry\n",
       "0       1             POINT (-74.25702151185868 40.49414563819848)\n",
       "1       2              POINT (-74.24443849259721 40.4922776914055)\n",
       "2       3             POINT (-74.25874354305617 40.49704148607953)\n",
       "3       4             POINT (-74.25874745972355 40.50270602375195)\n",
       "4       5             POINT (-74.25850081677106 40.50810821233416)"
      ]
     },
     "execution_count": 6,
     "metadata": {},
     "output_type": "execute_result"
    }
   ],
   "source": [
    "intersections.head()"
   ]
  },
  {
   "cell_type": "code",
   "execution_count": 7,
   "metadata": {
    "collapsed": false
   },
   "outputs": [
    {
     "data": {
      "text/plain": [
       "<matplotlib.axes._subplots.AxesSubplot at 0x7f46c1acad50>"
      ]
     },
     "execution_count": 7,
     "metadata": {},
     "output_type": "execute_result"
    },
    {
     "data": {
      "text/plain": [
       "<matplotlib.figure.Figure at 0x7f46c0f99e90>"
      ]
     },
     "metadata": {},
     "output_type": "display_data"
    },
    {
     "data": {
      "image/png": "[encoded data removed]",
      "text/plain": [
       "<matplotlib.figure.Figure at 0x7f46eafa4590>"
      ]
     },
     "metadata": {},
     "output_type": "display_data"
    }
   ],
   "source": [
    "f = plt.figure()\n",
    "intersections.tail(9000).plot()"
   ]
  },
  {
   "cell_type": "code",
   "execution_count": 8,
   "metadata": {
    "collapsed": false
   },
   "outputs": [
    {
     "data": {
      "text/plain": [
       "<matplotlib.axes._subplots.AxesSubplot at 0x7f46b6eb4390>"
      ]
     },
     "execution_count": 8,
     "metadata": {},
     "output_type": "execute_result"
    },
    {
     "data": {
      "image/png": "[encoded data removed]",
      "text/plain": [
       "<matplotlib.figure.Figure at 0x7f46eafa4c10>"
      ]
     },
     "metadata": {},
     "output_type": "display_data"
    }
   ],
   "source": [
    "bikes.plot()"
   ]
  },
  {
   "cell_type": "code",
   "execution_count": 9,
   "metadata": {
    "collapsed": false
   },
   "outputs": [
    {
     "name": "stdout",
     "output_type": "stream",
     "text": [
      "0.00036231884058 decimal degrees\n"
     ]
    }
   ],
   "source": [
    "# buf = 1. / 69 / 10 # ~69 miles per decimal degree, so this gives ~0.1 mile\n",
    "# buf = 1. / 69 / 10 / 2 # ~69 miles per decimal degree, so this gives ~0.05 mile\n",
    "buf = 1. / 69 / 10 / 4 # ~69 miles per decimal degree, so this gives ~0.025 mile\n",
    "print '{} decimal degrees'.format(buf)"
   ]
  },
  {
   "cell_type": "code",
   "execution_count": 10,
   "metadata": {
    "collapsed": true
   },
   "outputs": [],
   "source": [
    "bikes2 = bikes"
   ]
  },
  {
   "cell_type": "code",
   "execution_count": 11,
   "metadata": {
    "collapsed": false
   },
   "outputs": [
    {
     "name": "stdout",
     "output_type": "stream",
     "text": [
      "time to create buffers: 1.50448513031\n"
     ]
    }
   ],
   "source": [
    "start=time.time()\n",
    "bikes2['geometry'] = bikes2['geometry'].buffer(buf)\n",
    "print 'time to create buffers:', time.time()-start"
   ]
  },
  {
   "cell_type": "code",
   "execution_count": 12,
   "metadata": {
    "collapsed": false
   },
   "outputs": [
    {
     "data": {
      "text/html": [
       "<div>\n",
       "<table border=\"1\" class=\"dataframe\">\n",
       "  <thead>\n",
       "    <tr style=\"text-align: right;\">\n",
       "      <th></th>\n",
       "      <th>AllClasses</th>\n",
       "      <th>BORO</th>\n",
       "      <th>BikeDir</th>\n",
       "      <th>CarFreeHrs</th>\n",
       "      <th>Comments</th>\n",
       "      <th>FACILITYCL</th>\n",
       "      <th>FROMSTREET</th>\n",
       "      <th>FT_Facilit</th>\n",
       "      <th>InstDate</th>\n",
       "      <th>LaneCount</th>\n",
       "      <th>ModDate</th>\n",
       "      <th>OBJECTID</th>\n",
       "      <th>OnOffSt</th>\n",
       "      <th>SegmentID</th>\n",
       "      <th>Shape_Leng</th>\n",
       "      <th>Street</th>\n",
       "      <th>TF_Facilit</th>\n",
       "      <th>TOSTREET</th>\n",
       "      <th>geometry</th>\n",
       "    </tr>\n",
       "  </thead>\n",
       "  <tbody>\n",
       "    <tr>\n",
       "      <th>0</th>\n",
       "      <td>II</td>\n",
       "      <td>3</td>\n",
       "      <td>L</td>\n",
       "      <td>None</td>\n",
       "      <td>None</td>\n",
       "      <td>II</td>\n",
       "      <td>ATLANTIC AV</td>\n",
       "      <td>None</td>\n",
       "      <td>2008-05-01</td>\n",
       "      <td>1</td>\n",
       "      <td>2008/05/01</td>\n",
       "      <td>1</td>\n",
       "      <td>ON</td>\n",
       "      <td>0158196</td>\n",
       "      <td>27.594231</td>\n",
       "      <td>BOERUM PL</td>\n",
       "      <td>Curbside</td>\n",
       "      <td>FULTON ST</td>\n",
       "      <td>POLYGON ((-73.9888686549123 40.69087763670097,...</td>\n",
       "    </tr>\n",
       "    <tr>\n",
       "      <th>1</th>\n",
       "      <td>II</td>\n",
       "      <td>3</td>\n",
       "      <td>L</td>\n",
       "      <td>None</td>\n",
       "      <td>None</td>\n",
       "      <td>II</td>\n",
       "      <td>ATLANTIC AV</td>\n",
       "      <td>None</td>\n",
       "      <td>2008-05-01</td>\n",
       "      <td>1</td>\n",
       "      <td>2008/05/01</td>\n",
       "      <td>2</td>\n",
       "      <td>ON</td>\n",
       "      <td>0158195</td>\n",
       "      <td>388.356099</td>\n",
       "      <td>BOERUM PL</td>\n",
       "      <td>Curbside</td>\n",
       "      <td>FULTON ST</td>\n",
       "      <td>POLYGON ((-73.98885032620774 40.69095054558995...</td>\n",
       "    </tr>\n",
       "    <tr>\n",
       "      <th>2</th>\n",
       "      <td>III</td>\n",
       "      <td>3</td>\n",
       "      <td>R</td>\n",
       "      <td>None</td>\n",
       "      <td>None</td>\n",
       "      <td>III</td>\n",
       "      <td>FULTON ST</td>\n",
       "      <td>Sharrows</td>\n",
       "      <td>2008-05-01</td>\n",
       "      <td>1</td>\n",
       "      <td>2008/05/01</td>\n",
       "      <td>3</td>\n",
       "      <td>ON</td>\n",
       "      <td>0158055</td>\n",
       "      <td>41.893490</td>\n",
       "      <td>ADAMS ST</td>\n",
       "      <td>None</td>\n",
       "      <td>SANDS ST</td>\n",
       "      <td>POLYGON ((-73.98868940328275 40.69234297585093...</td>\n",
       "    </tr>\n",
       "    <tr>\n",
       "      <th>3</th>\n",
       "      <td>I</td>\n",
       "      <td>3</td>\n",
       "      <td>2</td>\n",
       "      <td>None</td>\n",
       "      <td>None</td>\n",
       "      <td>I</td>\n",
       "      <td>CLINTON ST</td>\n",
       "      <td>Protected Path</td>\n",
       "      <td>2005-11-01</td>\n",
       "      <td>2</td>\n",
       "      <td>2005/11/01</td>\n",
       "      <td>4</td>\n",
       "      <td>ON</td>\n",
       "      <td>0157983</td>\n",
       "      <td>304.905674</td>\n",
       "      <td>TILLARY ST</td>\n",
       "      <td>Protected Path</td>\n",
       "      <td>ADAMS ST</td>\n",
       "      <td>POLYGON ((-73.99104798824317 40.69671999307978...</td>\n",
       "    </tr>\n",
       "    <tr>\n",
       "      <th>4</th>\n",
       "      <td>III</td>\n",
       "      <td>3</td>\n",
       "      <td>R</td>\n",
       "      <td>None</td>\n",
       "      <td>None</td>\n",
       "      <td>III</td>\n",
       "      <td>BERGEN ST</td>\n",
       "      <td>Sharrows</td>\n",
       "      <td>2008-09-13</td>\n",
       "      <td>1</td>\n",
       "      <td>2008/09/13</td>\n",
       "      <td>5</td>\n",
       "      <td>ON</td>\n",
       "      <td>0022428</td>\n",
       "      <td>126.078700</td>\n",
       "      <td>COURT ST</td>\n",
       "      <td>None</td>\n",
       "      <td>KANE ST</td>\n",
       "      <td>POLYGON ((-73.99408064544548 40.68529727712878...</td>\n",
       "    </tr>\n",
       "  </tbody>\n",
       "</table>\n",
       "</div>"
      ],
      "text/plain": [
       "  AllClasses  BORO BikeDir CarFreeHrs Comments FACILITYCL   FROMSTREET  \\\n",
       "0         II     3       L       None     None         II  ATLANTIC AV   \n",
       "1         II     3       L       None     None         II  ATLANTIC AV   \n",
       "2        III     3       R       None     None        III    FULTON ST   \n",
       "3          I     3       2       None     None          I   CLINTON ST   \n",
       "4        III     3       R       None     None        III    BERGEN ST   \n",
       "\n",
       "       FT_Facilit    InstDate  LaneCount     ModDate  OBJECTID OnOffSt  \\\n",
       "0            None  2008-05-01          1  2008/05/01         1      ON   \n",
       "1            None  2008-05-01          1  2008/05/01         2      ON   \n",
       "2        Sharrows  2008-05-01          1  2008/05/01         3      ON   \n",
       "3  Protected Path  2005-11-01          2  2005/11/01         4      ON   \n",
       "4        Sharrows  2008-09-13          1  2008/09/13         5      ON   \n",
       "\n",
       "  SegmentID  Shape_Leng      Street      TF_Facilit   TOSTREET  \\\n",
       "0   0158196   27.594231   BOERUM PL        Curbside  FULTON ST   \n",
       "1   0158195  388.356099   BOERUM PL        Curbside  FULTON ST   \n",
       "2   0158055   41.893490    ADAMS ST            None   SANDS ST   \n",
       "3   0157983  304.905674  TILLARY ST  Protected Path   ADAMS ST   \n",
       "4   0022428  126.078700    COURT ST            None    KANE ST   \n",
       "\n",
       "                                            geometry  \n",
       "0  POLYGON ((-73.9888686549123 40.69087763670097,...  \n",
       "1  POLYGON ((-73.98885032620774 40.69095054558995...  \n",
       "2  POLYGON ((-73.98868940328275 40.69234297585093...  \n",
       "3  POLYGON ((-73.99104798824317 40.69671999307978...  \n",
       "4  POLYGON ((-73.99408064544548 40.68529727712878...  "
      ]
     },
     "execution_count": 12,
     "metadata": {},
     "output_type": "execute_result"
    }
   ],
   "source": [
    "bikes2.head()"
   ]
  },
  {
   "cell_type": "code",
   "execution_count": 13,
   "metadata": {
    "collapsed": false
   },
   "outputs": [
    {
     "data": {
      "text/plain": [
       "<matplotlib.axes._subplots.AxesSubplot at 0x7f46c5beacd0>"
      ]
     },
     "execution_count": 13,
     "metadata": {},
     "output_type": "execute_result"
    },
    {
     "data": {
      "image/png": "[encoded data removed]",
      "text/plain": [
       "<matplotlib.figure.Figure at 0x7f46b4b904d0>"
      ]
     },
     "metadata": {},
     "output_type": "display_data"
    }
   ],
   "source": [
    "bikes2.plot()"
   ]
  },
  {
   "cell_type": "code",
   "execution_count": 14,
   "metadata": {
    "collapsed": false
   },
   "outputs": [
    {
     "name": "stdout",
     "output_type": "stream",
     "text": [
      "time to merge: 15.6419379711\n"
     ]
    }
   ],
   "source": [
    "# for later:\n",
    "start=time.time()\n",
    "# bikeMerge=sjoin(intersections, bikes2, how='left', op='intersects')\n",
    "bikeMerge=sjoin(intersections, bikes2, how='left', op='within')\n",
    "print 'time to merge:', time.time()-start"
   ]
  },
  {
   "cell_type": "code",
   "execution_count": 15,
   "metadata": {
    "collapsed": false
   },
   "outputs": [
    {
     "data": {
      "text/plain": [
       "(167317, 22)"
      ]
     },
     "execution_count": 15,
     "metadata": {},
     "output_type": "execute_result"
    }
   ],
   "source": [
    "bikeMerge.shape"
   ]
  },
  {
   "cell_type": "code",
   "execution_count": 16,
   "metadata": {
    "collapsed": false
   },
   "outputs": [
    {
     "data": {
      "text/plain": [
       "(65034, 22)"
      ]
     },
     "execution_count": 16,
     "metadata": {},
     "output_type": "execute_result"
    }
   ],
   "source": [
    "bikeMerge[bikeMerge['index_right'].notnull()].shape"
   ]
  },
  {
   "cell_type": "code",
   "execution_count": 17,
   "metadata": {
    "collapsed": false
   },
   "outputs": [
    {
     "data": {
      "text/plain": [
       "(126240, 3)"
      ]
     },
     "execution_count": 17,
     "metadata": {},
     "output_type": "execute_result"
    }
   ],
   "source": [
    "intersections.shape"
   ]
  },
  {
   "cell_type": "code",
   "execution_count": 18,
   "metadata": {
    "collapsed": true
   },
   "outputs": [],
   "source": [
    "bikeMerge2 = bikeMerge"
   ]
  },
  {
   "cell_type": "code",
   "execution_count": 19,
   "metadata": {
    "collapsed": true
   },
   "outputs": [],
   "source": [
    "bikeMerge2['bikeLane'] = 0"
   ]
  },
  {
   "cell_type": "code",
   "execution_count": 20,
   "metadata": {
    "collapsed": true
   },
   "outputs": [],
   "source": [
    "idx = pd.IndexSlice"
   ]
  },
  {
   "cell_type": "code",
   "execution_count": 21,
   "metadata": {
    "collapsed": false
   },
   "outputs": [],
   "source": [
    "mask = bikeMerge2.loc[:,idx['index_right']].notnull()"
   ]
  },
  {
   "cell_type": "code",
   "execution_count": 22,
   "metadata": {
    "collapsed": false
   },
   "outputs": [],
   "source": [
    "bikeMerge2.loc[mask, 'bikeLane'] = 1"
   ]
  },
  {
   "cell_type": "code",
   "execution_count": 23,
   "metadata": {
    "collapsed": true
   },
   "outputs": [],
   "source": [
    "bikeMerge3 = bikeMerge2[['NODEID', 'bikeLane']]"
   ]
  },
  {
   "cell_type": "code",
   "execution_count": 24,
   "metadata": {
    "collapsed": false
   },
   "outputs": [
    {
     "data": {
      "text/plain": [
       "(167317, 2)"
      ]
     },
     "execution_count": 24,
     "metadata": {},
     "output_type": "execute_result"
    }
   ],
   "source": [
    "bikeMerge3.shape"
   ]
  },
  {
   "cell_type": "code",
   "execution_count": 25,
   "metadata": {
    "collapsed": false
   },
   "outputs": [
    {
     "data": {
      "text/plain": [
       "(126240, 2)"
      ]
     },
     "execution_count": 25,
     "metadata": {},
     "output_type": "execute_result"
    }
   ],
   "source": [
    "bikeMerge3.drop_duplicates().shape"
   ]
  },
  {
   "cell_type": "code",
   "execution_count": 26,
   "metadata": {
    "collapsed": true
   },
   "outputs": [],
   "source": [
    "bikeMerge3 = bikeMerge3.drop_duplicates()"
   ]
  },
  {
   "cell_type": "code",
   "execution_count": 27,
   "metadata": {
    "collapsed": false
   },
   "outputs": [],
   "source": [
    "bikeMerge3 = bikeMerge3.rename(columns={'NODEID': 'intersectionID'})"
   ]
  },
  {
   "cell_type": "code",
   "execution_count": 30,
   "metadata": {
    "collapsed": false,
    "scrolled": true
   },
   "outputs": [],
   "source": [
    "# bikeMerge3.to_csv('../data/bikeLanes.csv')"
   ]
  },
  {
   "cell_type": "code",
   "execution_count": 28,
   "metadata": {
    "collapsed": false
   },
   "outputs": [
    {
     "data": {
      "text/plain": [
       "(23957, 2)"
      ]
     },
     "execution_count": 28,
     "metadata": {},
     "output_type": "execute_result"
    }
   ],
   "source": [
    "bikeMerge3[bikeMerge3['bikeLane']==1].shape"
   ]
  },
  {
   "cell_type": "markdown",
   "metadata": {},
   "source": [
    "with buf = 1. / 69 / 10  \n",
    "44200 matches\n",
    "\n",
    "with buf = 1. / 69 / 10 / 2  \n",
    "30497 matches\n",
    "\n",
    "with buf = 1. / 69 / 10 / 4  \n",
    "23957 matches"
   ]
  },
  {
   "cell_type": "code",
   "execution_count": 29,
   "metadata": {
    "collapsed": true
   },
   "outputs": [],
   "source": [
    "# bikes2.to_csv('../data/bikeBufferWider.csv')\n",
    "# bikes2.to_csv('../data/bikeBufferNarrow.csv')"
   ]
  },
  {
   "cell_type": "code",
   "execution_count": 32,
   "metadata": {
    "collapsed": false
   },
   "outputs": [],
   "source": [
    "vz = pd.read_csv('../data/vzwV2.csv')"
   ]
  },
  {
   "cell_type": "code",
   "execution_count": 33,
   "metadata": {
    "collapsed": false
   },
   "outputs": [
    {
     "data": {
      "text/html": [
       "<div>\n",
       "<table border=\"1\" class=\"dataframe\">\n",
       "  <thead>\n",
       "    <tr style=\"text-align: right;\">\n",
       "      <th></th>\n",
       "      <th>identity</th>\n",
       "      <th>label</th>\n",
       "      <th>NUMBER_OF_PERSONS_INJURED</th>\n",
       "      <th>NUMBER_OF_PERSONS_KILLED</th>\n",
       "      <th>NUMBER_OF_PEDESTRIANS_INJURED</th>\n",
       "      <th>NUMBER_OF_PEDESTRIANS_KILLED</th>\n",
       "      <th>NUMBER_OF_CYCLIST_INJURED</th>\n",
       "      <th>NUMBER_OF_CYCLIST_KILLED</th>\n",
       "      <th>NUMBER_OF_MOTORIST_INJURED</th>\n",
       "      <th>NUMBER_OF_MOTORIST_KILLED</th>\n",
       "      <th>...</th>\n",
       "      <th>VEHICLE_TYPE_CODE_5-nan</th>\n",
       "      <th>Street_Condition</th>\n",
       "      <th>Traffic_Signal_Condition</th>\n",
       "      <th>Visibility</th>\n",
       "      <th>WetBulbFarenheit</th>\n",
       "      <th>WindSpeed</th>\n",
       "      <th>Precip</th>\n",
       "      <th>PrecipSum</th>\n",
       "      <th>intersectionID</th>\n",
       "      <th>total_involved</th>\n",
       "    </tr>\n",
       "  </thead>\n",
       "  <tbody>\n",
       "    <tr>\n",
       "      <th>0</th>\n",
       "      <td>id-0</td>\n",
       "      <td>0</td>\n",
       "      <td>0</td>\n",
       "      <td>0</td>\n",
       "      <td>0</td>\n",
       "      <td>0</td>\n",
       "      <td>0</td>\n",
       "      <td>0</td>\n",
       "      <td>0</td>\n",
       "      <td>0</td>\n",
       "      <td>...</td>\n",
       "      <td>0</td>\n",
       "      <td>0</td>\n",
       "      <td>0</td>\n",
       "      <td>10</td>\n",
       "      <td>21.666667</td>\n",
       "      <td>8.333333</td>\n",
       "      <td>0</td>\n",
       "      <td>-2.239962e-16</td>\n",
       "      <td>1</td>\n",
       "      <td>0</td>\n",
       "    </tr>\n",
       "    <tr>\n",
       "      <th>1</th>\n",
       "      <td>id-1</td>\n",
       "      <td>0</td>\n",
       "      <td>0</td>\n",
       "      <td>0</td>\n",
       "      <td>0</td>\n",
       "      <td>0</td>\n",
       "      <td>0</td>\n",
       "      <td>0</td>\n",
       "      <td>0</td>\n",
       "      <td>0</td>\n",
       "      <td>...</td>\n",
       "      <td>0</td>\n",
       "      <td>0</td>\n",
       "      <td>0</td>\n",
       "      <td>10</td>\n",
       "      <td>55.333333</td>\n",
       "      <td>16.333333</td>\n",
       "      <td>0</td>\n",
       "      <td>-1.971080e-16</td>\n",
       "      <td>2</td>\n",
       "      <td>0</td>\n",
       "    </tr>\n",
       "    <tr>\n",
       "      <th>2</th>\n",
       "      <td>id-2</td>\n",
       "      <td>0</td>\n",
       "      <td>0</td>\n",
       "      <td>0</td>\n",
       "      <td>0</td>\n",
       "      <td>0</td>\n",
       "      <td>0</td>\n",
       "      <td>0</td>\n",
       "      <td>0</td>\n",
       "      <td>0</td>\n",
       "      <td>...</td>\n",
       "      <td>0</td>\n",
       "      <td>0</td>\n",
       "      <td>0</td>\n",
       "      <td>10</td>\n",
       "      <td>25.333333</td>\n",
       "      <td>9.666667</td>\n",
       "      <td>0</td>\n",
       "      <td>-2.272488e-16</td>\n",
       "      <td>3</td>\n",
       "      <td>0</td>\n",
       "    </tr>\n",
       "    <tr>\n",
       "      <th>3</th>\n",
       "      <td>id-3</td>\n",
       "      <td>0</td>\n",
       "      <td>0</td>\n",
       "      <td>0</td>\n",
       "      <td>0</td>\n",
       "      <td>0</td>\n",
       "      <td>0</td>\n",
       "      <td>0</td>\n",
       "      <td>0</td>\n",
       "      <td>0</td>\n",
       "      <td>...</td>\n",
       "      <td>0</td>\n",
       "      <td>0</td>\n",
       "      <td>0</td>\n",
       "      <td>10</td>\n",
       "      <td>47.000000</td>\n",
       "      <td>8.333333</td>\n",
       "      <td>0</td>\n",
       "      <td>-2.376571e-16</td>\n",
       "      <td>4</td>\n",
       "      <td>0</td>\n",
       "    </tr>\n",
       "    <tr>\n",
       "      <th>4</th>\n",
       "      <td>id-4</td>\n",
       "      <td>0</td>\n",
       "      <td>0</td>\n",
       "      <td>0</td>\n",
       "      <td>0</td>\n",
       "      <td>0</td>\n",
       "      <td>0</td>\n",
       "      <td>0</td>\n",
       "      <td>0</td>\n",
       "      <td>0</td>\n",
       "      <td>...</td>\n",
       "      <td>0</td>\n",
       "      <td>0</td>\n",
       "      <td>0</td>\n",
       "      <td>10</td>\n",
       "      <td>45.666667</td>\n",
       "      <td>10.500000</td>\n",
       "      <td>0</td>\n",
       "      <td>-1.903859e-16</td>\n",
       "      <td>5</td>\n",
       "      <td>0</td>\n",
       "    </tr>\n",
       "  </tbody>\n",
       "</table>\n",
       "<p>5 rows × 281 columns</p>\n",
       "</div>"
      ],
      "text/plain": [
       "  identity  label  NUMBER_OF_PERSONS_INJURED  NUMBER_OF_PERSONS_KILLED  \\\n",
       "0     id-0      0                          0                         0   \n",
       "1     id-1      0                          0                         0   \n",
       "2     id-2      0                          0                         0   \n",
       "3     id-3      0                          0                         0   \n",
       "4     id-4      0                          0                         0   \n",
       "\n",
       "   NUMBER_OF_PEDESTRIANS_INJURED  NUMBER_OF_PEDESTRIANS_KILLED  \\\n",
       "0                              0                             0   \n",
       "1                              0                             0   \n",
       "2                              0                             0   \n",
       "3                              0                             0   \n",
       "4                              0                             0   \n",
       "\n",
       "   NUMBER_OF_CYCLIST_INJURED  NUMBER_OF_CYCLIST_KILLED  \\\n",
       "0                          0                         0   \n",
       "1                          0                         0   \n",
       "2                          0                         0   \n",
       "3                          0                         0   \n",
       "4                          0                         0   \n",
       "\n",
       "   NUMBER_OF_MOTORIST_INJURED  NUMBER_OF_MOTORIST_KILLED       ...        \\\n",
       "0                           0                          0       ...         \n",
       "1                           0                          0       ...         \n",
       "2                           0                          0       ...         \n",
       "3                           0                          0       ...         \n",
       "4                           0                          0       ...         \n",
       "\n",
       "   VEHICLE_TYPE_CODE_5-nan  Street_Condition  Traffic_Signal_Condition  \\\n",
       "0                        0                 0                         0   \n",
       "1                        0                 0                         0   \n",
       "2                        0                 0                         0   \n",
       "3                        0                 0                         0   \n",
       "4                        0                 0                         0   \n",
       "\n",
       "   Visibility  WetBulbFarenheit  WindSpeed  Precip     PrecipSum  \\\n",
       "0          10         21.666667   8.333333       0 -2.239962e-16   \n",
       "1          10         55.333333  16.333333       0 -1.971080e-16   \n",
       "2          10         25.333333   9.666667       0 -2.272488e-16   \n",
       "3          10         47.000000   8.333333       0 -2.376571e-16   \n",
       "4          10         45.666667  10.500000       0 -1.903859e-16   \n",
       "\n",
       "   intersectionID  total_involved  \n",
       "0               1               0  \n",
       "1               2               0  \n",
       "2               3               0  \n",
       "3               4               0  \n",
       "4               5               0  \n",
       "\n",
       "[5 rows x 281 columns]"
      ]
     },
     "execution_count": 33,
     "metadata": {},
     "output_type": "execute_result"
    }
   ],
   "source": [
    "vz.head()"
   ]
  },
  {
   "cell_type": "code",
   "execution_count": 42,
   "metadata": {
    "collapsed": false
   },
   "outputs": [],
   "source": [
    "vzMerge = pd.merge(vz, bikeMerge3, how='left', on='intersectionID')"
   ]
  },
  {
   "cell_type": "code",
   "execution_count": 43,
   "metadata": {
    "collapsed": false
   },
   "outputs": [
    {
     "data": {
      "text/plain": [
       "(126240, 2)"
      ]
     },
     "execution_count": 43,
     "metadata": {},
     "output_type": "execute_result"
    }
   ],
   "source": [
    "bikeMerge3.shape"
   ]
  },
  {
   "cell_type": "code",
   "execution_count": 44,
   "metadata": {
    "collapsed": false
   },
   "outputs": [
    {
     "data": {
      "text/plain": [
       "(277255, 281)"
      ]
     },
     "execution_count": 44,
     "metadata": {},
     "output_type": "execute_result"
    }
   ],
   "source": [
    "vz.shape"
   ]
  },
  {
   "cell_type": "code",
   "execution_count": 45,
   "metadata": {
    "collapsed": false
   },
   "outputs": [
    {
     "data": {
      "text/plain": [
       "(277255, 282)"
      ]
     },
     "execution_count": 45,
     "metadata": {},
     "output_type": "execute_result"
    }
   ],
   "source": [
    "vzMerge.shape"
   ]
  },
  {
   "cell_type": "code",
   "execution_count": 49,
   "metadata": {
    "collapsed": true
   },
   "outputs": [],
   "source": [
    "vzMerge.to_csv('../data/vzwV3.csv')"
   ]
  },
  {
   "cell_type": "code",
   "execution_count": null,
   "metadata": {
    "collapsed": true
   },
   "outputs": [],
   "source": []
  }
 ],
 "metadata": {
  "kernelspec": {
   "display_name": "Python 2",
   "language": "python",
   "name": "python2"
  },
  "language_info": {
   "codemirror_mode": {
    "name": "ipython",
    "version": 2
   },
   "file_extension": ".py",
   "mimetype": "text/x-python",
   "name": "python",
   "nbconvert_exporter": "python",
   "pygments_lexer": "ipython2",
   "version": "2.7.11"
  }
 },
 "nbformat": 4,
 "nbformat_minor": 0
}
